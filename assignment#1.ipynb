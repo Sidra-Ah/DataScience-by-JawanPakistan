{
 "cells": [
  {
   "cell_type": "code",
   "execution_count": 5,
   "id": "4d5dafe1",
   "metadata": {},
   "outputs": [
    {
     "name": "stdout",
     "output_type": "stream",
     "text": [
      "Twinkle Twinkle Littel Star\n",
      "\t How i wonder what you are\n",
      "\t \t Up above the world so high\n",
      "\t \t like a diamond in the sky\n",
      "\n",
      "Twinkle Twinkle Littel Star\n",
      "\t How i wonder what you are\n"
     ]
    }
   ],
   "source": [
    "# no1 \n",
    "print(\"Twinkle Twinkle Littel Star\")\n",
    "print(\"\\t How i wonder what you are\")\n",
    "print(\"\\t \\t Up above the world so high\")\n",
    "print(\"\\t \\t like a diamond in the sky\\n\")\n",
    "print(\"Twinkle Twinkle Littel Star\")\n",
    "print(\"\\t How i wonder what you are\")"
   ]
  },
  {
   "cell_type": "code",
   "execution_count": 9,
   "id": "cf4ae3cf",
   "metadata": {},
   "outputs": [
    {
     "name": "stdout",
     "output_type": "stream",
     "text": [
      "3.9.7\n"
     ]
    }
   ],
   "source": [
    "# no:2 \n",
    "from platform import python_version\n",
    "\n",
    "print(python_version())\n"
   ]
  },
  {
   "cell_type": "code",
   "execution_count": 12,
   "id": "aec2a9bf",
   "metadata": {},
   "outputs": [
    {
     "name": "stdout",
     "output_type": "stream",
     "text": [
      "date and time = 29/12/2021 13:05:05\n"
     ]
    }
   ],
   "source": [
    "# no:3 \n",
    "\n",
    "from datetime import datetime\n",
    "\n",
    "dt = datetime.now()\n",
    "dt_string = dt.strftime(\"%d/%m/%Y %H:%M:%S\")\n",
    "print(\"date and time =\", dt_string)"
   ]
  },
  {
   "cell_type": "code",
   "execution_count": 13,
   "id": "b18bc8a9",
   "metadata": {},
   "outputs": [
    {
     "name": "stdout",
     "output_type": "stream",
     "text": [
      "Input the radius of the circle : 4\n",
      "The area of the circle with radius 4.0 is: 50.26548245743669\n"
     ]
    }
   ],
   "source": [
    "# no:4 \n",
    "from math import pi\n",
    "r = float(input (\"Input the radius of the circle : \"))\n",
    "print (\"The area of the circle with radius \" + str(r) + \" is: \" + str(pi * r**2))"
   ]
  },
  {
   "cell_type": "code",
   "execution_count": 14,
   "id": "a659396f",
   "metadata": {},
   "outputs": [
    {
     "name": "stdout",
     "output_type": "stream",
     "text": [
      "FIRST NAME: sidra\n",
      "Last Name: ahmed\n",
      "ahmed sidra\n"
     ]
    }
   ],
   "source": [
    "# no: 5\n",
    "\n",
    "fn = input(\"FIRST NAME: \")\n",
    "ln = input(\"Last Name: \")\n",
    "print(ln + \" \" + fn)"
   ]
  },
  {
   "cell_type": "code",
   "execution_count": 21,
   "id": "c32feb28",
   "metadata": {},
   "outputs": [
    {
     "name": "stdout",
     "output_type": "stream",
     "text": [
      "num1: 2\n",
      "num2: 2\n",
      "4\n"
     ]
    }
   ],
   "source": [
    "# no: 6 \n",
    "\n",
    "num1 = input(\"num1: \")\n",
    "num2 = input(\"num2: \")\n",
    "add = int(num1) + int(num2)\n",
    "print (add)"
   ]
  },
  {
   "cell_type": "code",
   "execution_count": null,
   "id": "e7741f58",
   "metadata": {},
   "outputs": [],
   "source": []
  }
 ],
 "metadata": {
  "kernelspec": {
   "display_name": "Python 3 (ipykernel)",
   "language": "python",
   "name": "python3"
  },
  "language_info": {
   "codemirror_mode": {
    "name": "ipython",
    "version": 3
   },
   "file_extension": ".py",
   "mimetype": "text/x-python",
   "name": "python",
   "nbconvert_exporter": "python",
   "pygments_lexer": "ipython3",
   "version": "3.9.7"
  }
 },
 "nbformat": 4,
 "nbformat_minor": 5
}
